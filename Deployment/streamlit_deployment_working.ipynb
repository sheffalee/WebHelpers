! pip install streamlit -q
!pip install transformers
!pip install openai
!pip install streamlit_chat
